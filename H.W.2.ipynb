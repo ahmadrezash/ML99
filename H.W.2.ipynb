{
 "cells": [
  {
   "cell_type": "code",
   "execution_count": 11,
   "metadata": {},
   "outputs": [],
   "source": [
    "import numpy as np\n",
    "from matplotlib import pyplot as plt\n",
    "import pandas as pd\n",
    "from sklearn.model_selection import train_test_split\n",
    "from sklearn import linear_model"
   ]
  },
  {
   "cell_type": "code",
   "execution_count": 12,
   "metadata": {},
   "outputs": [],
   "source": [
    "import Utility as util\n"
   ]
  },
  {
   "cell_type": "code",
   "execution_count": 13,
   "metadata": {},
   "outputs": [],
   "source": [
    "data = pd.read_csv('./p1/pdData.csv',index_col=0)\n",
    "\n",
    "Y = data.y\n",
    "X = data.drop(\"y\",axis=1)\n",
    "\n",
    "X_train, X_test, y_train, y_test = train_test_split(X, Y, test_size=0.5, random_state=42)"
   ]
  },
  {
   "cell_type": "code",
   "execution_count": 14,
   "metadata": {},
   "outputs": [],
   "source": [
    "def evaluate(model_func, X_train, X_test, y_train, y_test):\n",
    "    print(\"\\n ############ \\n\")\n",
    "    \n",
    "    w = model_func(X_train, y_train)\n",
    "    train_y_hat = (w_lstsq @ X_train.T)\n",
    "    test_y_hat = (w_lstsq @ X_test.T)\n",
    "    \n",
    "    rmse_train = util.RMSE(y_train,train_y_hat)\n",
    "    rmse_test = util.RMSE(y_test,test_y_hat)\n",
    "\n",
    "    mae_train = util.MAE(y_train,train_y_hat)\n",
    "    mae_test = util.MAE(y_test,test_y_hat)\n",
    "    \n",
    "    print(f\"RMSE train: {rmse_train}\")\n",
    "    print(f\"RMSE test: {rmse_test}\")\n",
    "    \n",
    "    print(f\"MAE train: {mae_train}\")\n",
    "    print(f\"MAE test: {mae_test}\")\n",
    "\n",
    "    return rmse_train, rmse_test, mae_train, mae_test\n"
   ]
  },
  {
   "cell_type": "code",
   "execution_count": 15,
   "metadata": {},
   "outputs": [
    {
     "name": "stdout",
     "output_type": "stream",
     "text": [
      "Coefficient of ten first features according to my implementation:\n",
      " [[9.91273606 9.0339283  8.00450889 7.05934264 5.90982622 4.86269342\n",
      "  4.17679149 2.8989912  2.04300963 0.89037795]]\n",
      "Compare resualt: 0.028273188837648292\n"
     ]
    }
   ],
   "source": [
    "\n",
    "\n",
    "if __name__ == '__main__':\n",
    "    # Loading Data\n",
    "    data = pd.read_csv('./p1/pdData.csv',index_col=0)\n",
    "    \n",
    "    Y = data.y\n",
    "    X = data.drop(\"y\",axis=1)\n",
    "    \n",
    "    # Splitting Data\n",
    "    X_train, X_test, y_train, y_test = train_test_split(X, Y, test_size=0.5, random_state=42)\n",
    "    \n",
    "    # Linear Least Squares\n",
    "    x_lstsq = np.array(X_train[X_train.columns[:10]])\n",
    "    w_lstsq = lstsq_model(x_lstsq,y_train)\n",
    "    \n",
    "    print(\"Coefficient of ten first features according to my implementation:\\n\",w_lstsq)\n",
    "    \n",
    "    # Linear Regression\n",
    "    x_lreg = x_lstsq    \n",
    "    w_lreg = lreg_model(x_lreg,y_train)\n",
    "    \n",
    "    \n",
    "    # Compare resualt\n",
    "    compare_res = np.linalg.norm(reg.coef_  - w_lstsq,ord=2)\n",
    "    print(f'Compare resualt: {compare_res}')\n",
    "    \n",
    "    "
   ]
  },
  {
   "cell_type": "code",
   "execution_count": 16,
   "metadata": {},
   "outputs": [],
   "source": [
    "reg = linear_model.LinearRegression().fit(X_train,y_train)"
   ]
  },
  {
   "cell_type": "code",
   "execution_count": 17,
   "metadata": {},
   "outputs": [],
   "source": [
    "x_lreg = x_lstsq\n",
    "reg = linear_model.LinearRegression().fit(x_lreg,y_train)"
   ]
  },
  {
   "cell_type": "code",
   "execution_count": 18,
   "metadata": {},
   "outputs": [
    {
     "name": "stdout",
     "output_type": "stream",
     "text": [
      "\n",
      " ############ \n",
      "\n"
     ]
    },
    {
     "ename": "ValueError",
     "evalue": "Dot product shape mismatch, (100, 99) vs (10, 1)",
     "output_type": "error",
     "traceback": [
      "\u001B[0;31m---------------------------------------------------------------------------\u001B[0m",
      "\u001B[0;31mValueError\u001B[0m                                Traceback (most recent call last)",
      "\u001B[0;32m<ipython-input-18-3e2667042161>\u001B[0m in \u001B[0;36m<module>\u001B[0;34m\u001B[0m\n\u001B[0;32m----> 1\u001B[0;31m evaluate(model_func=lstsq_model,\n\u001B[0m\u001B[1;32m      2\u001B[0m          \u001B[0mX_train\u001B[0m\u001B[0;34m=\u001B[0m\u001B[0mX_train\u001B[0m\u001B[0;34m,\u001B[0m \u001B[0mX_test\u001B[0m\u001B[0;34m=\u001B[0m\u001B[0mX_test\u001B[0m\u001B[0;34m,\u001B[0m\u001B[0;34m\u001B[0m\u001B[0;34m\u001B[0m\u001B[0m\n\u001B[1;32m      3\u001B[0m          y_train=y_train, y_test=y_test)\n\u001B[1;32m      4\u001B[0m \u001B[0;34m\u001B[0m\u001B[0m\n",
      "\u001B[0;32m<ipython-input-14-7832939ba061>\u001B[0m in \u001B[0;36mevaluate\u001B[0;34m(model_func, X_train, X_test, y_train, y_test)\u001B[0m\n\u001B[1;32m      3\u001B[0m \u001B[0;34m\u001B[0m\u001B[0m\n\u001B[1;32m      4\u001B[0m     \u001B[0mw\u001B[0m \u001B[0;34m=\u001B[0m \u001B[0mmodel_func\u001B[0m\u001B[0;34m(\u001B[0m\u001B[0mX_train\u001B[0m\u001B[0;34m,\u001B[0m \u001B[0my_train\u001B[0m\u001B[0;34m)\u001B[0m\u001B[0;34m\u001B[0m\u001B[0;34m\u001B[0m\u001B[0m\n\u001B[0;32m----> 5\u001B[0;31m     \u001B[0mtrain_y_hat\u001B[0m \u001B[0;34m=\u001B[0m \u001B[0;34m(\u001B[0m\u001B[0mw_lstsq\u001B[0m \u001B[0;34m@\u001B[0m \u001B[0mX_train\u001B[0m\u001B[0;34m.\u001B[0m\u001B[0mT\u001B[0m\u001B[0;34m)\u001B[0m\u001B[0;34m\u001B[0m\u001B[0;34m\u001B[0m\u001B[0m\n\u001B[0m\u001B[1;32m      6\u001B[0m     \u001B[0mtest_y_hat\u001B[0m \u001B[0;34m=\u001B[0m \u001B[0;34m(\u001B[0m\u001B[0mw_lstsq\u001B[0m \u001B[0;34m@\u001B[0m \u001B[0mX_test\u001B[0m\u001B[0;34m.\u001B[0m\u001B[0mT\u001B[0m\u001B[0;34m)\u001B[0m\u001B[0;34m\u001B[0m\u001B[0;34m\u001B[0m\u001B[0m\n\u001B[1;32m      7\u001B[0m \u001B[0;34m\u001B[0m\u001B[0m\n",
      "\u001B[0;32m~/anaconda3/envs/ml/lib/python3.9/site-packages/pandas/core/frame.py\u001B[0m in \u001B[0;36m__rmatmul__\u001B[0;34m(self, other)\u001B[0m\n\u001B[1;32m   1223\u001B[0m         \u001B[0mMatrix\u001B[0m \u001B[0mmultiplication\u001B[0m \u001B[0musing\u001B[0m \u001B[0mbinary\u001B[0m\u001B[0;31m \u001B[0m\u001B[0;31m`\u001B[0m\u001B[0;34m@\u001B[0m\u001B[0;31m`\u001B[0m \u001B[0moperator\u001B[0m \u001B[0;32min\u001B[0m \u001B[0mPython\u001B[0m\u001B[0;34m>=\u001B[0m\u001B[0;36m3.5\u001B[0m\u001B[0;34m.\u001B[0m\u001B[0;34m\u001B[0m\u001B[0;34m\u001B[0m\u001B[0m\n\u001B[1;32m   1224\u001B[0m         \"\"\"\n\u001B[0;32m-> 1225\u001B[0;31m         \u001B[0;32mreturn\u001B[0m \u001B[0mself\u001B[0m\u001B[0;34m.\u001B[0m\u001B[0mT\u001B[0m\u001B[0;34m.\u001B[0m\u001B[0mdot\u001B[0m\u001B[0;34m(\u001B[0m\u001B[0mnp\u001B[0m\u001B[0;34m.\u001B[0m\u001B[0mtranspose\u001B[0m\u001B[0;34m(\u001B[0m\u001B[0mother\u001B[0m\u001B[0;34m)\u001B[0m\u001B[0;34m)\u001B[0m\u001B[0;34m.\u001B[0m\u001B[0mT\u001B[0m\u001B[0;34m\u001B[0m\u001B[0;34m\u001B[0m\u001B[0m\n\u001B[0m\u001B[1;32m   1226\u001B[0m \u001B[0;34m\u001B[0m\u001B[0m\n\u001B[1;32m   1227\u001B[0m     \u001B[0;31m# ----------------------------------------------------------------------\u001B[0m\u001B[0;34m\u001B[0m\u001B[0;34m\u001B[0m\u001B[0;34m\u001B[0m\u001B[0m\n",
      "\u001B[0;32m~/anaconda3/envs/ml/lib/python3.9/site-packages/pandas/core/frame.py\u001B[0m in \u001B[0;36mdot\u001B[0;34m(self, other)\u001B[0m\n\u001B[1;32m   1194\u001B[0m             \u001B[0mrvals\u001B[0m \u001B[0;34m=\u001B[0m \u001B[0mnp\u001B[0m\u001B[0;34m.\u001B[0m\u001B[0masarray\u001B[0m\u001B[0;34m(\u001B[0m\u001B[0mother\u001B[0m\u001B[0;34m)\u001B[0m\u001B[0;34m\u001B[0m\u001B[0;34m\u001B[0m\u001B[0m\n\u001B[1;32m   1195\u001B[0m             \u001B[0;32mif\u001B[0m \u001B[0mlvals\u001B[0m\u001B[0;34m.\u001B[0m\u001B[0mshape\u001B[0m\u001B[0;34m[\u001B[0m\u001B[0;36m1\u001B[0m\u001B[0;34m]\u001B[0m \u001B[0;34m!=\u001B[0m \u001B[0mrvals\u001B[0m\u001B[0;34m.\u001B[0m\u001B[0mshape\u001B[0m\u001B[0;34m[\u001B[0m\u001B[0;36m0\u001B[0m\u001B[0;34m]\u001B[0m\u001B[0;34m:\u001B[0m\u001B[0;34m\u001B[0m\u001B[0;34m\u001B[0m\u001B[0m\n\u001B[0;32m-> 1196\u001B[0;31m                 raise ValueError(\n\u001B[0m\u001B[1;32m   1197\u001B[0m                     \u001B[0;34mf\"Dot product shape mismatch, {lvals.shape} vs {rvals.shape}\"\u001B[0m\u001B[0;34m\u001B[0m\u001B[0;34m\u001B[0m\u001B[0m\n\u001B[1;32m   1198\u001B[0m                 )\n",
      "\u001B[0;31mValueError\u001B[0m: Dot product shape mismatch, (100, 99) vs (10, 1)"
     ]
    }
   ],
   "source": [
    "evaluate(model_func=lstsq_model,\n",
    "         X_train=X_train, X_test=X_test,\n",
    "         y_train=y_train, y_test=y_test)"
   ]
  },
  {
   "cell_type": "code",
   "execution_count": 19,
   "metadata": {},
   "outputs": [
    {
     "name": "stdout",
     "output_type": "stream",
     "text": [
      "\n",
      " ############ \n",
      "\n"
     ]
    },
    {
     "ename": "AssertionError",
     "evalue": "len(y) is 100 and len(y_hat) is 1, it is not equal",
     "output_type": "error",
     "traceback": [
      "\u001B[0;31m---------------------------------------------------------------------------\u001B[0m",
      "\u001B[0;31mAssertionError\u001B[0m                            Traceback (most recent call last)",
      "\u001B[0;32m<ipython-input-19-f9d4adb3a9e1>\u001B[0m in \u001B[0;36m<module>\u001B[0;34m\u001B[0m\n\u001B[1;32m      5\u001B[0m \u001B[0mtest_y_hat\u001B[0m \u001B[0;34m=\u001B[0m \u001B[0;34m(\u001B[0m\u001B[0mw\u001B[0m \u001B[0;34m@\u001B[0m \u001B[0mX_test\u001B[0m\u001B[0;34m.\u001B[0m\u001B[0mT\u001B[0m\u001B[0;34m)\u001B[0m\u001B[0;34m\u001B[0m\u001B[0;34m\u001B[0m\u001B[0m\n\u001B[1;32m      6\u001B[0m \u001B[0;34m\u001B[0m\u001B[0m\n\u001B[0;32m----> 7\u001B[0;31m \u001B[0mrmse_train\u001B[0m \u001B[0;34m=\u001B[0m \u001B[0mutil\u001B[0m\u001B[0;34m.\u001B[0m\u001B[0mRMSE\u001B[0m\u001B[0;34m(\u001B[0m\u001B[0my_train\u001B[0m\u001B[0;34m,\u001B[0m\u001B[0mtrain_y_hat\u001B[0m\u001B[0;34m)\u001B[0m\u001B[0;34m\u001B[0m\u001B[0;34m\u001B[0m\u001B[0m\n\u001B[0m\u001B[1;32m      8\u001B[0m \u001B[0;31m# rmse_test = util.RMSE(y_test,test_y_hat)\u001B[0m\u001B[0;34m\u001B[0m\u001B[0;34m\u001B[0m\u001B[0;34m\u001B[0m\u001B[0m\n\u001B[1;32m      9\u001B[0m \u001B[0;34m\u001B[0m\u001B[0m\n",
      "\u001B[0;32m~/Project/ml-exc/Utility.py\u001B[0m in \u001B[0;36mRMSE\u001B[0;34m(y, y_hat)\u001B[0m\n\u001B[1;32m      6\u001B[0m     \u001B[0;31m# error msg\u001B[0m\u001B[0;34m\u001B[0m\u001B[0;34m\u001B[0m\u001B[0;34m\u001B[0m\u001B[0m\n\u001B[1;32m      7\u001B[0m     \u001B[0merror_msg\u001B[0m \u001B[0;34m=\u001B[0m \u001B[0;34mf\"len(y) is {len(y)} and len(y_hat) is {len(y_hat)}, it is not equal\"\u001B[0m\u001B[0;34m\u001B[0m\u001B[0;34m\u001B[0m\u001B[0m\n\u001B[0;32m----> 8\u001B[0;31m     \u001B[0;32massert\u001B[0m \u001B[0mlen\u001B[0m\u001B[0;34m(\u001B[0m\u001B[0my_hat\u001B[0m\u001B[0;34m)\u001B[0m \u001B[0;34m==\u001B[0m \u001B[0mlen\u001B[0m\u001B[0;34m(\u001B[0m\u001B[0my\u001B[0m\u001B[0;34m)\u001B[0m \u001B[0;34m,\u001B[0m \u001B[0merror_msg\u001B[0m\u001B[0;34m\u001B[0m\u001B[0;34m\u001B[0m\u001B[0m\n\u001B[0m\u001B[1;32m      9\u001B[0m \u001B[0;34m\u001B[0m\u001B[0m\n\u001B[1;32m     10\u001B[0m     \u001B[0;31m# function calculate\u001B[0m\u001B[0;34m\u001B[0m\u001B[0;34m\u001B[0m\u001B[0;34m\u001B[0m\u001B[0m\n",
      "\u001B[0;31mAssertionError\u001B[0m: len(y) is 100 and len(y_hat) is 1, it is not equal"
     ]
    }
   ],
   "source": [
    "print(\"\\n ############ \\n\")\n",
    "model_func=lstsq_model\n",
    "w = model_func(X_train, y_train)\n",
    "train_y_hat = (w @ X_train.T)\n",
    "test_y_hat = (w @ X_test.T)\n",
    "\n",
    "rmse_train = util.RMSE(y_train,train_y_hat)\n",
    "# rmse_test = util.RMSE(y_test,test_y_hat)\n",
    "\n",
    "# mae_train = util.MAE(y_train,train_y_hat)\n",
    "# mae_test = util.MAE(y_test,test_y_hat)\n",
    "\n",
    "# print(f\"RMSE train: {rmse_train}\")\n",
    "# print(f\"RMSE test: {rmse_test}\")\n",
    "\n",
    "# print(f\"MAE train: {mae_train}\")\n",
    "# print(f\"MAE test: {mae_test}\")\n",
    "\n",
    "# return rmse_train, rmse_test, mae_train, mae_test"
   ]
  },
  {
   "cell_type": "code",
   "execution_count": 380,
   "metadata": {},
   "outputs": [
    {
     "data": {
      "text/plain": [
       "4      15.604059\n",
       "32    -11.245377\n",
       "142    -2.394912\n",
       "145     8.164584\n",
       "109     1.813820\n",
       "         ...    \n",
       "106   -16.626370\n",
       "14     -7.255950\n",
       "92     18.631625\n",
       "179    -5.100963\n",
       "102    13.012858\n",
       "Name: y, Length: 100, dtype: float64"
      ]
     },
     "execution_count": 380,
     "metadata": {},
     "output_type": "execute_result"
    }
   ],
   "source": [
    "y_train"
   ]
  },
  {
   "cell_type": "code",
   "execution_count": 379,
   "metadata": {},
   "outputs": [
    {
     "data": {
      "text/html": [
       "<div>\n",
       "<style scoped>\n",
       "    .dataframe tbody tr th:only-of-type {\n",
       "        vertical-align: middle;\n",
       "    }\n",
       "\n",
       "    .dataframe tbody tr th {\n",
       "        vertical-align: top;\n",
       "    }\n",
       "\n",
       "    .dataframe thead th {\n",
       "        text-align: right;\n",
       "    }\n",
       "</style>\n",
       "<table border=\"1\" class=\"dataframe\">\n",
       "  <thead>\n",
       "    <tr style=\"text-align: right;\">\n",
       "      <th></th>\n",
       "      <th>4</th>\n",
       "      <th>32</th>\n",
       "      <th>142</th>\n",
       "      <th>145</th>\n",
       "      <th>109</th>\n",
       "      <th>144</th>\n",
       "      <th>10</th>\n",
       "      <th>62</th>\n",
       "      <th>112</th>\n",
       "      <th>146</th>\n",
       "      <th>...</th>\n",
       "      <th>121</th>\n",
       "      <th>199</th>\n",
       "      <th>20</th>\n",
       "      <th>188</th>\n",
       "      <th>71</th>\n",
       "      <th>106</th>\n",
       "      <th>14</th>\n",
       "      <th>92</th>\n",
       "      <th>179</th>\n",
       "      <th>102</th>\n",
       "    </tr>\n",
       "  </thead>\n",
       "  <tbody>\n",
       "    <tr>\n",
       "      <th>0</th>\n",
       "      <td>15.627127</td>\n",
       "      <td>-11.255684</td>\n",
       "      <td>-2.291821</td>\n",
       "      <td>8.177187</td>\n",
       "      <td>1.813726</td>\n",
       "      <td>4.993258</td>\n",
       "      <td>-7.235783</td>\n",
       "      <td>6.082906</td>\n",
       "      <td>7.004095</td>\n",
       "      <td>-12.02049</td>\n",
       "      <td>...</td>\n",
       "      <td>2.95308</td>\n",
       "      <td>-0.382898</td>\n",
       "      <td>-0.84683</td>\n",
       "      <td>-6.679239</td>\n",
       "      <td>17.873163</td>\n",
       "      <td>-16.699583</td>\n",
       "      <td>-7.180548</td>\n",
       "      <td>18.464204</td>\n",
       "      <td>-4.940313</td>\n",
       "      <td>12.997116</td>\n",
       "    </tr>\n",
       "  </tbody>\n",
       "</table>\n",
       "<p>1 rows × 100 columns</p>\n",
       "</div>"
      ],
      "text/plain": [
       "         4          32        142       145       109       144       10   \\\n",
       "0  15.627127 -11.255684 -2.291821  8.177187  1.813726  4.993258 -7.235783   \n",
       "\n",
       "        62        112       146  ...      121       199      20        188  \\\n",
       "0  6.082906  7.004095 -12.02049  ...  2.95308 -0.382898 -0.84683 -6.679239   \n",
       "\n",
       "         71         106       14         92        179        102  \n",
       "0  17.873163 -16.699583 -7.180548  18.464204 -4.940313  12.997116  \n",
       "\n",
       "[1 rows x 100 columns]"
      ]
     },
     "execution_count": 379,
     "metadata": {},
     "output_type": "execute_result"
    }
   ],
   "source": [
    "train_y_hat"
   ]
  },
  {
   "cell_type": "code",
   "execution_count": null,
   "metadata": {},
   "outputs": [],
   "source": []
  }
 ],
 "metadata": {
  "kernelspec": {
   "display_name": "Python 3",
   "language": "python",
   "name": "python3"
  },
  "language_info": {
   "codemirror_mode": {
    "name": "ipython",
    "version": 3
   },
   "file_extension": ".py",
   "mimetype": "text/x-python",
   "name": "python",
   "nbconvert_exporter": "python",
   "pygments_lexer": "ipython3",
   "version": "3.9.1"
  }
 },
 "nbformat": 4,
 "nbformat_minor": 4
}